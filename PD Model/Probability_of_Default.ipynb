{
  "nbformat": 4,
  "nbformat_minor": 0,
  "metadata": {
    "colab": {
      "provenance": []
    },
    "kernelspec": {
      "name": "python3",
      "display_name": "Python 3"
    },
    "language_info": {
      "name": "python"
    }
  },
  "cells": [
    {
      "cell_type": "code",
      "execution_count": 2,
      "metadata": {
        "colab": {
          "base_uri": "https://localhost:8080/"
        },
        "id": "EuxCUdlt6Bjr",
        "outputId": "72eb8afe-9533-4f82-d431-75712b8304f2"
      },
      "outputs": [
        {
          "output_type": "stream",
          "name": "stdout",
          "text": [
            "(10000, 8)\n",
            "customer_id                   int64\n",
            "credit_lines_outstanding      int64\n",
            "loan_amt_outstanding        float64\n",
            "total_debt_outstanding      float64\n",
            "income                      float64\n",
            "years_employed                int64\n",
            "fico_score                    int64\n",
            "default                       int64\n",
            "dtype: object\n",
            "   customer_id  credit_lines_outstanding  loan_amt_outstanding  \\\n",
            "0      8153374                         0           5221.545193   \n",
            "1      7442532                         5           1958.928726   \n",
            "2      2256073                         0           3363.009259   \n",
            "3      4885975                         0           4766.648001   \n",
            "4      4700614                         1           1345.827718   \n",
            "\n",
            "   total_debt_outstanding       income  years_employed  fico_score  default  \n",
            "0             3915.471226  78039.38546               5         605        0  \n",
            "1             8228.752520  26648.43525               2         572        1  \n",
            "2             2027.830850  65866.71246               4         602        0  \n",
            "3             2501.730397  74356.88347               5         612        0  \n",
            "4             1768.826187  23448.32631               6         631        0  \n",
            "customer_id                 0\n",
            "credit_lines_outstanding    0\n",
            "loan_amt_outstanding        0\n",
            "total_debt_outstanding      0\n",
            "income                      0\n",
            "years_employed              0\n",
            "fico_score                  0\n",
            "default                     0\n",
            "dtype: int64\n"
          ]
        }
      ],
      "source": [
        "import pandas as pd\n",
        "df = pd.read_csv(\"Task 3 and 4_Loan_Data.csv\")\n",
        "print(df.shape)\n",
        "print(df.dtypes)\n",
        "print(df.head())\n",
        "print(df.isna().sum())"
      ]
    },
    {
      "cell_type": "code",
      "source": [
        "target_col = 'default'\n",
        "print(df[target_col].value_counts(normalize=True))\n",
        "print(df[target_col].value_counts())\n",
        "print(df.groupby(target_col).mean().transpose())\n",
        "print(df.describe().transpose())\n"
      ],
      "metadata": {
        "id": "roD2DpQq6bF_",
        "colab": {
          "base_uri": "https://localhost:8080/"
        },
        "outputId": "5f6d70f1-a493-460e-dcd4-e8f960434a81"
      },
      "execution_count": 8,
      "outputs": [
        {
          "output_type": "stream",
          "name": "stdout",
          "text": [
            "default\n",
            "0    0.8149\n",
            "1    0.1851\n",
            "Name: proportion, dtype: float64\n",
            "default\n",
            "0    8149\n",
            "1    1851\n",
            "Name: count, dtype: int64\n",
            "default                              0             1\n",
            "customer_id               4.967005e+06  5.007914e+06\n",
            "credit_lines_outstanding  7.441404e-01  4.618044e+00\n",
            "loan_amt_outstanding      4.092629e+03  4.454855e+03\n",
            "total_debt_outstanding    6.322165e+03  1.927058e+04\n",
            "income                    6.988389e+04  7.072674e+04\n",
            "years_employed            4.765247e+00  3.617504e+00\n",
            "fico_score                6.469388e+02  5.962577e+02\n",
            "                            count          mean           std           min  \\\n",
            "customer_id               10000.0  4.974577e+06  2.293890e+06  1.000324e+06   \n",
            "credit_lines_outstanding  10000.0  1.461200e+00  1.743846e+00  0.000000e+00   \n",
            "loan_amt_outstanding      10000.0  4.159677e+03  1.421399e+03  4.678397e+01   \n",
            "total_debt_outstanding    10000.0  8.718917e+03  6.627165e+03  3.165273e+01   \n",
            "income                    10000.0  7.003990e+04  2.007221e+04  1.000000e+03   \n",
            "years_employed            10000.0  4.552800e+00  1.566862e+00  0.000000e+00   \n",
            "fico_score                10000.0  6.375577e+02  6.065791e+01  4.080000e+02   \n",
            "default                   10000.0  1.851000e-01  3.883981e-01  0.000000e+00   \n",
            "\n",
            "                                   25%           50%           75%  \\\n",
            "customer_id               2.977661e+06  4.989502e+06  6.967210e+06   \n",
            "credit_lines_outstanding  0.000000e+00  1.000000e+00  2.000000e+00   \n",
            "loan_amt_outstanding      3.154235e+03  4.052377e+03  5.052898e+03   \n",
            "total_debt_outstanding    4.199836e+03  6.732407e+03  1.127226e+04   \n",
            "income                    5.653987e+04  7.008583e+04  8.342917e+04   \n",
            "years_employed            3.000000e+00  5.000000e+00  6.000000e+00   \n",
            "fico_score                5.970000e+02  6.380000e+02  6.790000e+02   \n",
            "default                   0.000000e+00  0.000000e+00  0.000000e+00   \n",
            "\n",
            "                                   max  \n",
            "customer_id               8.999789e+06  \n",
            "credit_lines_outstanding  5.000000e+00  \n",
            "loan_amt_outstanding      1.075068e+04  \n",
            "total_debt_outstanding    4.368878e+04  \n",
            "income                    1.484122e+05  \n",
            "years_employed            1.000000e+01  \n",
            "fico_score                8.500000e+02  \n",
            "default                   1.000000e+00  \n"
          ]
        }
      ]
    },
    {
      "cell_type": "code",
      "source": [
        "def predict_pd(input_dict_or_df):\n",
        "    if isinstance(input_dict_or_df, dict):\n",
        "        df_in = pd.DataFrame([input_dict_or_df])[feature_order]\n",
        "    else:\n",
        "        df_in = pd.DataFrame(input_dict_or_df)[feature_order]\n",
        "    Xs = best_scaler.transform(df_in)\n",
        "    probs = best_model.predict_proba(Xs)[:, 1]\n",
        "    return probs if len(probs) > 1 else float(probs[0])\n"
      ],
      "metadata": {
        "id": "uQ2tXC7n8FYX"
      },
      "execution_count": 12,
      "outputs": []
    },
    {
      "cell_type": "code",
      "source": [
        "from sklearn.model_selection import train_test_split\n",
        "from sklearn.preprocessing import StandardScaler\n",
        "\n",
        "features = [c for c in df.columns if c not in ['customer_id', 'default']]\n",
        "X = df[features].copy()\n",
        "y = df['default'].copy()\n",
        "\n",
        "X_trainval, X_test, y_trainval, y_test = train_test_split(X, y, test_size=0.2, stratify=y, random_state=42)\n",
        "X_train, X_val, y_train, y_val = train_test_split(X_trainval, y_trainval, test_size=0.25, stratify=y_trainval, random_state=42)\n",
        "\n",
        "scaler = StandardScaler()\n",
        "X_train_s = scaler.fit_transform(X_train)\n",
        "X_val_s = scaler.transform(X_val)\n",
        "X_test_s = scaler.transform(X_test)\n"
      ],
      "metadata": {
        "id": "g_hZ5_207QaL"
      },
      "execution_count": 13,
      "outputs": []
    },
    {
      "cell_type": "code",
      "source": [
        "from sklearn.linear_model import LogisticRegression\n",
        "from sklearn.tree import DecisionTreeClassifier\n",
        "from sklearn.ensemble import RandomForestClassifier\n",
        "from sklearn.calibration import CalibratedClassifierCV\n",
        "from sklearn.metrics import roc_auc_score, brier_score_loss, average_precision_score\n",
        "import pandas as pd\n",
        "\n",
        "lr = LogisticRegression(class_weight='balanced', solver='liblinear', random_state=42)\n",
        "dt = DecisionTreeClassifier(max_depth=6, class_weight='balanced', random_state=42)\n",
        "rf = RandomForestClassifier(n_estimators=200, max_depth=8, class_weight='balanced', random_state=42)\n",
        "\n",
        "lr.fit(X_train_s, y_train)\n",
        "dt.fit(X_train_s, y_train)\n",
        "rf.fit(X_train_s, y_train)\n",
        "\n",
        "cal_lr = CalibratedClassifierCV(lr, cv='prefit').fit(X_val_s, y_val)\n",
        "cal_dt = CalibratedClassifierCV(dt, cv='prefit').fit(X_val_s, y_val)\n",
        "cal_rf = CalibratedClassifierCV(rf, cv='prefit').fit(X_val_s, y_val)\n",
        "\n",
        "models = {'Logistic': cal_lr, 'DecisionTree': cal_dt, 'RandomForest': cal_rf}\n",
        "results = []\n",
        "for name, model in models.items():\n",
        "    probs = model.predict_proba(X_test_s)[:,1]\n",
        "    auc = roc_auc_score(y_test, probs)\n",
        "    brier = brier_score_loss(y_test, probs)\n",
        "    ap = average_precision_score(y_test, probs)\n",
        "    results.append({'model': name, 'roc_auc': auc, 'brier': brier, 'avg_precision': ap})\n",
        "res_df = pd.DataFrame(results).sort_values('roc_auc', ascending=False).reset_index(drop=True)\n",
        "print(res_df)\n"
      ],
      "metadata": {
        "colab": {
          "base_uri": "https://localhost:8080/"
        },
        "id": "IfcyyMwr7TYf",
        "outputId": "0350979f-8b30-4d2c-a731-9af6424c72fb"
      },
      "execution_count": 14,
      "outputs": [
        {
          "output_type": "stream",
          "name": "stdout",
          "text": [
            "          model   roc_auc     brier  avg_precision\n",
            "0      Logistic  0.999977  0.003564       0.999898\n",
            "1  RandomForest  0.999751  0.003777       0.998993\n",
            "2  DecisionTree  0.996619  0.004020       0.989861\n"
          ]
        },
        {
          "output_type": "stream",
          "name": "stderr",
          "text": [
            "/usr/local/lib/python3.11/dist-packages/sklearn/calibration.py:333: UserWarning: The `cv='prefit'` option is deprecated in 1.6 and will be removed in 1.8. You can use CalibratedClassifierCV(FrozenEstimator(estimator)) instead.\n",
            "  warnings.warn(\n",
            "/usr/local/lib/python3.11/dist-packages/sklearn/calibration.py:333: UserWarning: The `cv='prefit'` option is deprecated in 1.6 and will be removed in 1.8. You can use CalibratedClassifierCV(FrozenEstimator(estimator)) instead.\n",
            "  warnings.warn(\n",
            "/usr/local/lib/python3.11/dist-packages/sklearn/calibration.py:333: UserWarning: The `cv='prefit'` option is deprecated in 1.6 and will be removed in 1.8. You can use CalibratedClassifierCV(FrozenEstimator(estimator)) instead.\n",
            "  warnings.warn(\n"
          ]
        }
      ]
    },
    {
      "cell_type": "code",
      "source": [
        "import numpy as np\n",
        "\n",
        "best_model = models['Logistic']   # choose best from res_df (adjust if you prefer another)\n",
        "best_scaler = scaler\n",
        "feature_order = features\n",
        "\n",
        "def predict_pd(input_dict_or_df):\n",
        "    if isinstance(input_dict_or_df, dict):\n",
        "        df_in = pd.DataFrame([input_dict_or_df])\n",
        "    else:\n",
        "        df_in = pd.DataFrame(input_dict_or_df)\n",
        "    X_in = df_in[feature_order].values\n",
        "    Xs = best_scaler.transform(X_in)\n",
        "    probs = best_model.predict_proba(Xs)[:,1]\n",
        "    return probs if len(probs)>1 else float(probs[0])\n",
        "\n",
        "def expected_loss(input_features, exposure, recovery_rate=0.10):\n",
        "    pd_vals = predict_pd(input_features)\n",
        "    lgd = 1.0 - recovery_rate\n",
        "    if isinstance(pd_vals, np.ndarray):\n",
        "        return pd_vals * exposure * lgd\n",
        "    else:\n",
        "        return pd_vals * exposure * lgd\n",
        "\n",
        "# example usage\n",
        "sample = {'credit_lines_outstanding':1, 'loan_amt_outstanding':5000, 'total_debt_outstanding':7000, 'income':60000, 'years_employed':4, 'fico_score':660}\n",
        "print(\"PD:\", predict_pd(sample))\n",
        "print(\"Expected loss for exposure 10000:\", expected_loss(sample, exposure=10000))\n"
      ],
      "metadata": {
        "colab": {
          "base_uri": "https://localhost:8080/"
        },
        "id": "h8rGf1PI7Wq8",
        "outputId": "5cdc18ee-bc6c-499e-93a2-567d7d4b7a96"
      },
      "execution_count": 15,
      "outputs": [
        {
          "output_type": "stream",
          "name": "stdout",
          "text": [
            "PD: 2.6246917568776445e-06\n",
            "Expected loss for exposure 10000: 0.023622225811898802\n"
          ]
        },
        {
          "output_type": "stream",
          "name": "stderr",
          "text": [
            "/usr/local/lib/python3.11/dist-packages/sklearn/utils/validation.py:2739: UserWarning: X does not have valid feature names, but StandardScaler was fitted with feature names\n",
            "  warnings.warn(\n",
            "/usr/local/lib/python3.11/dist-packages/sklearn/utils/validation.py:2739: UserWarning: X does not have valid feature names, but StandardScaler was fitted with feature names\n",
            "  warnings.warn(\n"
          ]
        }
      ]
    },
    {
      "cell_type": "code",
      "source": [],
      "metadata": {
        "id": "VOmdn8877exX"
      },
      "execution_count": 15,
      "outputs": []
    }
  ]
}